{
 "cells": [
  {
   "cell_type": "code",
   "execution_count": 93,
   "metadata": {},
   "outputs": [],
   "source": [
    "import pandas as pd\n",
    "import argparse\n",
    "import os "
   ]
  },
  {
   "cell_type": "code",
   "execution_count": 94,
   "metadata": {},
   "outputs": [],
   "source": [
    "os.chdir('/scratch/midway2/chichun/aDNA_array_panel')"
   ]
  },
  {
   "cell_type": "code",
   "execution_count": 95,
   "metadata": {},
   "outputs": [],
   "source": [
    "parser = argparse.ArgumentParser()\n",
    "parser.add_argument('-a', '--input1', type = str, default = \"\", help = \"prefix 1 (anchor)\")\n",
    "parser.add_argument('-b', '--input2', type = str, default = \"\", help = \"prefix 2 (target)\")\n",
    "parser.add_argument('-o', '--output', type = str, default = \"\", help = \"output prefix\")\n",
    "parser.add_argument('-f', '--fixed_allele', type = str, default = \"0\", help = \"fixed allele\")\n",
    "args = parser.parse_args(['-a', 'Tibetan_batch1_high_density_151218', '-b', 'Arciero2018', '-o', 'test'])"
   ]
  },
  {
   "cell_type": "code",
   "execution_count": 96,
   "metadata": {},
   "outputs": [],
   "source": [
    "hom = args.fixed_allele"
   ]
  },
  {
   "cell_type": "code",
   "execution_count": 97,
   "metadata": {},
   "outputs": [],
   "source": [
    "col_name = ['id', 'chrom', 'cm', 'pos', 'a0', 'a1']\n",
    "snp_df_1 = pd.read_csv(args.input1 + '.snp', header = None, sep = '\\t', names = col_name).reset_index()\n",
    "snp_df_2 = pd.read_csv(args.input2 + '.snp', header = None, sep = '\\t', names = col_name).reset_index()\n",
    "snp_df_merged = snp_df_1.merge(snp_df_2, how = 'inner', on = ['chrom', 'pos'], suffixes = ['_df1', '_df2'])"
   ]
  },
  {
   "cell_type": "code",
   "execution_count": 98,
   "metadata": {},
   "outputs": [],
   "source": [
    "base_complement = {\"A\": \"T\", \"T\": \"A\", \"C\": \"G\", \"G\": \"C\"}\n",
    "\n",
    "def allele_combination(alleles):\n",
    "    '''\n",
    "    argument:\n",
    "    ---------\n",
    "    (a0, a1)\n",
    "    \n",
    "    return:\n",
    "    -------\n",
    "    alleles combitation: list\n",
    "    [(a0, a1), (a0_c, a1_c), (a1, a0), (a1_c, a0_c)]\n",
    "    '''\n",
    "    alleles_c = tuple([base_complement[a] for a in alleles])\n",
    "    return [alleles, alleles_c, alleles [::-1], alleles_c[::-1]]\n",
    "\n",
    "def any_match(a0, a_list):\n",
    "    '''\n",
    "    compare a0 to a list of alleles\n",
    "    if there is matching pairs in a0 == a_list[i]\n",
    "    \n",
    "    e.g \n",
    "    list(zip(('A','0'), ('A','C') )) \n",
    "    ... [('A', 'A'), ('0', 'C')] is TRUE\n",
    "    '''\n",
    "    match = []\n",
    "    for a in a_list:\n",
    "        match.append(any(x == y for x, y in zip(a0, a)))\n",
    "    return match"
   ]
  },
  {
   "cell_type": "code",
   "execution_count": 99,
   "metadata": {},
   "outputs": [],
   "source": [
    "A0, A1 = [],[]\n",
    "\n",
    "for index, variant in snp_df_merged.iterrows():    \n",
    "    if (variant['a0_df2'] != hom) & (variant['a1_df2'] != hom):\n",
    "        A0.append(variant['a0_df2'])\n",
    "        A1.append(variant['a1_df2'])\n",
    "    else:\n",
    "        # check ambiguity form data 1\n",
    "        allele_cb = allele_combination((variant['a0_df1'], variant['a1_df1']))\n",
    "        if allele_cb[0] == allele_cb[1][::-1]:\n",
    "            A0.append('NA')\n",
    "            A1.append('NA')\n",
    "        else:\n",
    "            # find ma\n",
    "            alleles = allele_cb[np.where(any_match((variant['a0_df2'], variant['a1_df2']), allele_cb))[0][0]]\n",
    "            A0.append(alleles[0])\n",
    "            A1.append(alleles[1])\n",
    "\n",
    "snp_df_merged.loc[:, 'A0'] = A0\n",
    "snp_df_merged.loc[:, 'A1'] = A1"
   ]
  },
  {
   "cell_type": "code",
   "execution_count": 100,
   "metadata": {},
   "outputs": [],
   "source": [
    "keep_index = list(snp_df_merged.index_df2)\n",
    "keep_index.sort(reverse = True)"
   ]
  },
  {
   "cell_type": "code",
   "execution_count": 101,
   "metadata": {},
   "outputs": [],
   "source": [
    "snp_df_merged = snp_df_merged[['id_df2', 'chrom', 'cm_df2', 'pos', 'A0', 'A1']].copy()\n",
    "snp_df_merged.to_csv(args.output + '.snp', sep = '\\t', index = False, header = False)"
   ]
  },
  {
   "cell_type": "code",
   "execution_count": 102,
   "metadata": {},
   "outputs": [
    {
     "ename": "IndexError",
     "evalue": "pop from empty list",
     "output_type": "error",
     "traceback": [
      "\u001b[0;31m---------------------------------------------------------------------------\u001b[0m",
      "\u001b[0;31mIndexError\u001b[0m                                Traceback (most recent call last)",
      "\u001b[0;32m<ipython-input-102-5e279b60f311>\u001b[0m in \u001b[0;36m<module>\u001b[0;34m\u001b[0m\n\u001b[1;32m      5\u001b[0m         \u001b[0;32mif\u001b[0m \u001b[0mline\u001b[0m \u001b[0;34m==\u001b[0m \u001b[0ml\u001b[0m\u001b[0;34m:\u001b[0m\u001b[0;34m\u001b[0m\u001b[0;34m\u001b[0m\u001b[0m\n\u001b[1;32m      6\u001b[0m             \u001b[0mgeno_out\u001b[0m\u001b[0;34m.\u001b[0m\u001b[0mwrite\u001b[0m\u001b[0;34m(\u001b[0m\u001b[0mg\u001b[0m\u001b[0;34m)\u001b[0m\u001b[0;34m\u001b[0m\u001b[0;34m\u001b[0m\u001b[0m\n\u001b[0;32m----> 7\u001b[0;31m             \u001b[0ml\u001b[0m \u001b[0;34m=\u001b[0m \u001b[0mkeep_index\u001b[0m\u001b[0;34m.\u001b[0m\u001b[0mpop\u001b[0m\u001b[0;34m(\u001b[0m\u001b[0;34m)\u001b[0m\u001b[0;34m\u001b[0m\u001b[0;34m\u001b[0m\u001b[0m\n\u001b[0m\u001b[1;32m      8\u001b[0m         \u001b[0mline\u001b[0m \u001b[0;34m+=\u001b[0m \u001b[0;36m1\u001b[0m\u001b[0;34m\u001b[0m\u001b[0;34m\u001b[0m\u001b[0m\n",
      "\u001b[0;31mIndexError\u001b[0m: pop from empty list"
     ]
    }
   ],
   "source": [
    "with open(args.input2 + '.geno', 'r') as geno_in, open(args.output + '.geno', 'a') as geno_out:\n",
    "    line = 0\n",
    "    l = keep_index.pop()\n",
    "    for g in geno_in:\n",
    "        if line == l:\n",
    "            geno_out.write(g)\n",
    "            if len(keep_index) > 0:\n",
    "                l = keep_index.pop()\n",
    "        line += 1"
   ]
  }
 ],
 "metadata": {
  "kernelspec": {
   "display_name": "Python 3",
   "language": "python",
   "name": "python3"
  },
  "language_info": {
   "codemirror_mode": {
    "name": "ipython",
    "version": 3
   },
   "file_extension": ".py",
   "mimetype": "text/x-python",
   "name": "python",
   "nbconvert_exporter": "python",
   "pygments_lexer": "ipython3",
   "version": "3.6.7"
  }
 },
 "nbformat": 4,
 "nbformat_minor": 2
}
